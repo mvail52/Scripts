{
 "cells": [
  {
   "cell_type": "code",
   "execution_count": 4,
   "metadata": {},
   "outputs": [
    {
     "name": "stdout",
     "output_type": "stream",
     "text": [
      "['poor' 'good' 'good' ... 'good' 'good' 'good']\n",
      "[[1275    0]\n",
      " [   0  725]]\n",
      "[[328   7]\n",
      " [  9 156]]\n",
      "Accuracy is  96.8\n"
     ]
    },
    {
     "data": {
      "text/plain": [
       "True"
      ]
     },
     "execution_count": 4,
     "metadata": {},
     "output_type": "execute_result"
    }
   ],
   "source": [
    "\"\"\"\n",
    "Built this to build a classification model. \n",
    "used https://scikit-learn.org/stable/auto_examples/model_selection/plot_confusion_matrix.html\n",
    "https://scikit-learn.org/stable/modules/generated/sklearn.tree.export_graphviz.html\n",
    "https://stackoverflow.com/questions/31209016/python-pydot-and-decisiontree\n",
    "\n",
    "\"\"\"\n",
    "\n",
    "import pandas as pd\n",
    "from sklearn.model_selection import train_test_split\n",
    "from sklearn.tree import DecisionTreeClassifier\n",
    "from sklearn.metrics import accuracy_score\n",
    "from sklearn.metrics import confusion_matrix \n",
    "from sklearn.externals.six import StringIO  \n",
    "from IPython.display import Image  \n",
    "from sklearn.tree import export_graphviz\n",
    "import pydotplus\n",
    "\n",
    "\n",
    "\n",
    "#import CSV\n",
    "balance_data = pd.read_csv('qualityInput.csv', sep= ',')\n",
    "\n",
    "## Set column variables \n",
    "X = balance_data.values[:,1:10]\n",
    "## what i am trying to predict \n",
    "Y = balance_data.values[:,11]\n",
    "\n",
    "##split my data into a training set and Test set \n",
    "X_train, X_test, y_train, y_test = train_test_split( X, Y, test_size = 0.20, random_state = 100)\n",
    "\n",
    "## delcare and set my classification tree then build it with my trainig data. \n",
    "clf = DecisionTreeClassifier()\n",
    "clf.fit(X_train, y_train)\n",
    "\n",
    "## use the trained data to find out how many was correctly classifed \n",
    "x_pred = clf.predict(X_train)\n",
    "results2 = confusion_matrix(y_train, x_pred) \n",
    "## use the test data to see how accurate my trained data is \n",
    "y_pred = clf.predict(X_test)\n",
    "results = confusion_matrix(y_test, y_pred) \n",
    "\n",
    "## get result \n",
    "print(results2)\n",
    "print(results)\n",
    "\n",
    "print (\"Accuracy is \", accuracy_score(y_test,y_pred)*100)\n",
    "\n",
    "\n",
    "## create PDF of my classfication tree. \n",
    "dot_data = StringIO()\n",
    "\n",
    "export_graphviz(clf, out_file=dot_data\n",
    "                ,max_depth = 3\n",
    "                ,filled=True, rounded=True,\n",
    "                special_characters=True)\n",
    "\n",
    "graph = pydotplus.graph_from_dot_data(dot_data.getvalue())  \n",
    "Image(graph.create_png())\n",
    "graph.write_pdf(\"ClassTree.pdf\")\n"
   ]
  },
  {
   "cell_type": "code",
   "execution_count": null,
   "metadata": {},
   "outputs": [],
   "source": []
  }
 ],
 "metadata": {
  "kernelspec": {
   "display_name": "Python 3",
   "language": "python",
   "name": "python3"
  },
  "language_info": {
   "codemirror_mode": {
    "name": "ipython",
    "version": 3
   },
   "file_extension": ".py",
   "mimetype": "text/x-python",
   "name": "python",
   "nbconvert_exporter": "python",
   "pygments_lexer": "ipython3",
   "version": "3.7.3"
  }
 },
 "nbformat": 4,
 "nbformat_minor": 2
}
